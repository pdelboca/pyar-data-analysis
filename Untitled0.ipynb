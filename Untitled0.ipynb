{
 "metadata": {
  "name": "",
  "signature": "sha256:471f04333fde3d1fe1de5dc9543ede5fc5fb7ca802a9ecb481dd84787f14412e"
 },
 "nbformat": 3,
 "nbformat_minor": 0,
 "worksheets": []
}